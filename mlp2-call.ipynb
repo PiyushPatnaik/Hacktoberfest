{
 "cells": [
  {
   "cell_type": "code",
   "execution_count": 42,
   "metadata": {},
   "outputs": [],
   "source": [
    "from keras.models import Sequential\n",
    "from keras.layers import Dense, Activation, LeakyReLU, BatchNormalization\n",
    "from keras import backend\n",
    "from keras.callbacks import TensorBoard\n",
    "from keras.optimizers import Adam\n",
    "from sklearn.model_selection import train_test_split\n",
    "import pandas as pd\n",
    "import numpy as np\n",
    "import warnings\n",
    "import math\n",
    "warnings.filterwarnings(\"ignore\")"
   ]
  },
  {
   "cell_type": "code",
   "execution_count": 43,
   "metadata": {},
   "outputs": [],
   "source": [
    "# Hyperparams\n",
    "n_units = 400\n",
    "layers = 4\n",
    "n_batch = 4096\n",
    "n_epochs = 50"
   ]
  },
  {
   "cell_type": "code",
   "execution_count": 44,
   "metadata": {},
   "outputs": [],
   "source": [
    "call_df = pd.read_csv('../data.csv')"
   ]
  },
  {
   "cell_type": "code",
   "execution_count": 45,
   "metadata": {},
   "outputs": [
    {
     "data": {
      "text/html": [
       "<div>\n",
       "<style scoped>\n",
       "    .dataframe tbody tr th:only-of-type {\n",
       "        vertical-align: middle;\n",
       "    }\n",
       "\n",
       "    .dataframe tbody tr th {\n",
       "        vertical-align: top;\n",
       "    }\n",
       "\n",
       "    .dataframe thead th {\n",
       "        text-align: right;\n",
       "    }\n",
       "</style>\n",
       "<table border=\"1\" class=\"dataframe\">\n",
       "  <thead>\n",
       "    <tr style=\"text-align: right;\">\n",
       "      <th></th>\n",
       "      <th>strike_price</th>\n",
       "      <th>best_bid</th>\n",
       "      <th>best_offer</th>\n",
       "      <th>date_ndiff</th>\n",
       "      <th>treasury_rate</th>\n",
       "      <th>closing_price</th>\n",
       "      <th>sigma_20</th>\n",
       "    </tr>\n",
       "  </thead>\n",
       "  <tbody>\n",
       "    <tr>\n",
       "      <th>0</th>\n",
       "      <td>334.0</td>\n",
       "      <td>4.50</td>\n",
       "      <td>4.57</td>\n",
       "      <td>3</td>\n",
       "      <td>15.146374</td>\n",
       "      <td>333.84</td>\n",
       "      <td>0.3812</td>\n",
       "    </tr>\n",
       "    <tr>\n",
       "      <th>1</th>\n",
       "      <td>335.0</td>\n",
       "      <td>3.83</td>\n",
       "      <td>3.90</td>\n",
       "      <td>3</td>\n",
       "      <td>15.146374</td>\n",
       "      <td>333.84</td>\n",
       "      <td>0.3647</td>\n",
       "    </tr>\n",
       "    <tr>\n",
       "      <th>2</th>\n",
       "      <td>336.0</td>\n",
       "      <td>3.24</td>\n",
       "      <td>3.28</td>\n",
       "      <td>3</td>\n",
       "      <td>15.146374</td>\n",
       "      <td>333.84</td>\n",
       "      <td>0.3500</td>\n",
       "    </tr>\n",
       "    <tr>\n",
       "      <th>3</th>\n",
       "      <td>337.0</td>\n",
       "      <td>2.68</td>\n",
       "      <td>2.72</td>\n",
       "      <td>3</td>\n",
       "      <td>15.146374</td>\n",
       "      <td>333.84</td>\n",
       "      <td>0.3358</td>\n",
       "    </tr>\n",
       "    <tr>\n",
       "      <th>4</th>\n",
       "      <td>338.0</td>\n",
       "      <td>2.19</td>\n",
       "      <td>2.22</td>\n",
       "      <td>3</td>\n",
       "      <td>15.146374</td>\n",
       "      <td>333.84</td>\n",
       "      <td>0.3238</td>\n",
       "    </tr>\n",
       "  </tbody>\n",
       "</table>\n",
       "</div>"
      ],
      "text/plain": [
       "   strike_price  best_bid  best_offer  date_ndiff  treasury_rate  \\\n",
       "0         334.0      4.50        4.57           3      15.146374   \n",
       "1         335.0      3.83        3.90           3      15.146374   \n",
       "2         336.0      3.24        3.28           3      15.146374   \n",
       "3         337.0      2.68        2.72           3      15.146374   \n",
       "4         338.0      2.19        2.22           3      15.146374   \n",
       "\n",
       "   closing_price  sigma_20  \n",
       "0         333.84    0.3812  \n",
       "1         333.84    0.3647  \n",
       "2         333.84    0.3500  \n",
       "3         333.84    0.3358  \n",
       "4         333.84    0.3238  "
      ]
     },
     "execution_count": 45,
     "metadata": {},
     "output_type": "execute_result"
    }
   ],
   "source": [
    "call_df.head()"
   ]
  },
  {
   "cell_type": "code",
   "execution_count": 46,
   "metadata": {},
   "outputs": [],
   "source": [
    "call_X_train, call_X_test, call_y_train, call_y_test = train_test_split(call_df.drop(['best_bid', 'best_offer'], axis=1),\n",
    "                                                                        call_df[['best_bid', 'best_offer']],\n",
    "                                                                        test_size=0.01, random_state=42)"
   ]
  },
  {
   "cell_type": "code",
   "execution_count": 47,
   "metadata": {},
   "outputs": [],
   "source": [
    "model = Sequential()\n",
    "model.add(Dense(n_units, input_dim=call_X_train.shape[1]))\n",
    "model.add(LeakyReLU())\n",
    "\n",
    "for _ in range(layers - 1):\n",
    "    model.add(Dense(n_units))\n",
    "    model.add(BatchNormalization())\n",
    "    model.add(LeakyReLU())\n",
    "\n",
    "model.add(Dense(2, activation='relu'))\n",
    "\n",
    "model.compile(loss='mse', optimizer=Adam())"
   ]
  },
  {
   "cell_type": "code",
   "execution_count": 48,
   "metadata": {},
   "outputs": [
    {
     "name": "stdout",
     "output_type": "stream",
     "text": [
      "Model: \"sequential_2\"\n",
      "_________________________________________________________________\n",
      " Layer (type)                Output Shape              Param #   \n",
      "=================================================================\n",
      " dense_10 (Dense)            (None, 400)               2400      \n",
      "                                                                 \n",
      " leaky_re_lu_8 (LeakyReLU)   (None, 400)               0         \n",
      "                                                                 \n",
      " dense_11 (Dense)            (None, 400)               160400    \n",
      "                                                                 \n",
      " batch_normalization_6 (Batc  (None, 400)              1600      \n",
      " hNormalization)                                                 \n",
      "                                                                 \n",
      " leaky_re_lu_9 (LeakyReLU)   (None, 400)               0         \n",
      "                                                                 \n",
      " dense_12 (Dense)            (None, 400)               160400    \n",
      "                                                                 \n",
      " batch_normalization_7 (Batc  (None, 400)              1600      \n",
      " hNormalization)                                                 \n",
      "                                                                 \n",
      " leaky_re_lu_10 (LeakyReLU)  (None, 400)               0         \n",
      "                                                                 \n",
      " dense_13 (Dense)            (None, 400)               160400    \n",
      "                                                                 \n",
      " batch_normalization_8 (Batc  (None, 400)              1600      \n",
      " hNormalization)                                                 \n",
      "                                                                 \n",
      " leaky_re_lu_11 (LeakyReLU)  (None, 400)               0         \n",
      "                                                                 \n",
      " dense_14 (Dense)            (None, 2)                 802       \n",
      "                                                                 \n",
      "=================================================================\n",
      "Total params: 489,202\n",
      "Trainable params: 486,802\n",
      "Non-trainable params: 2,400\n",
      "_________________________________________________________________\n"
     ]
    }
   ],
   "source": [
    "model.summary()"
   ]
  },
  {
   "cell_type": "code",
   "execution_count": 49,
   "metadata": {},
   "outputs": [
    {
     "name": "stdout",
     "output_type": "stream",
     "text": [
      "Epoch 1/50\n",
      "11/11 [==============================] - 4s 188ms/step - loss: 489.6070 - val_loss: 580.1790\n",
      "Epoch 2/50\n",
      "11/11 [==============================] - 2s 165ms/step - loss: 307.9321 - val_loss: 190.4507\n",
      "Epoch 3/50\n",
      "11/11 [==============================] - 2s 166ms/step - loss: 211.5641 - val_loss: 576.9182\n",
      "Epoch 4/50\n",
      "11/11 [==============================] - 2s 142ms/step - loss: 143.4722 - val_loss: 1053.7781\n",
      "Epoch 5/50\n",
      "11/11 [==============================] - 2s 155ms/step - loss: 94.6743 - val_loss: 535.3347\n",
      "Epoch 6/50\n",
      "11/11 [==============================] - 2s 146ms/step - loss: 61.2614 - val_loss: 186.8153\n",
      "Epoch 7/50\n",
      "11/11 [==============================] - 2s 145ms/step - loss: 40.2256 - val_loss: 134.8028\n",
      "Epoch 8/50\n",
      "11/11 [==============================] - 2s 154ms/step - loss: 28.4874 - val_loss: 147.1667\n",
      "Epoch 9/50\n",
      "11/11 [==============================] - 2s 145ms/step - loss: 19.7036 - val_loss: 110.6463\n",
      "Epoch 10/50\n",
      "11/11 [==============================] - 2s 151ms/step - loss: 15.9216 - val_loss: 126.2581\n",
      "Epoch 11/50\n",
      "11/11 [==============================] - 2s 142ms/step - loss: 12.7982 - val_loss: 96.6683\n",
      "Epoch 12/50\n",
      "11/11 [==============================] - 2s 141ms/step - loss: 11.5569 - val_loss: 27.7436\n",
      "Epoch 13/50\n",
      "11/11 [==============================] - 2s 145ms/step - loss: 9.7753 - val_loss: 21.3932\n",
      "Epoch 14/50\n",
      "11/11 [==============================] - 2s 144ms/step - loss: 9.2677 - val_loss: 14.6759\n",
      "Epoch 15/50\n",
      "11/11 [==============================] - 2s 171ms/step - loss: 8.5312 - val_loss: 13.8513\n",
      "Epoch 16/50\n",
      "11/11 [==============================] - 2s 138ms/step - loss: 6.8853 - val_loss: 16.8858\n",
      "Epoch 17/50\n",
      "11/11 [==============================] - 2s 138ms/step - loss: 6.5745 - val_loss: 29.8878\n",
      "Epoch 18/50\n",
      "11/11 [==============================] - 2s 146ms/step - loss: 8.5919 - val_loss: 12.9625\n",
      "Epoch 19/50\n",
      "11/11 [==============================] - 2s 138ms/step - loss: 6.5652 - val_loss: 14.6304\n",
      "Epoch 20/50\n",
      "11/11 [==============================] - 2s 143ms/step - loss: 5.2910 - val_loss: 21.5557\n",
      "Epoch 21/50\n",
      "11/11 [==============================] - 1s 132ms/step - loss: 5.1988 - val_loss: 27.8218\n",
      "Epoch 22/50\n",
      "11/11 [==============================] - 1s 130ms/step - loss: 5.4270 - val_loss: 144.2979\n",
      "Epoch 23/50\n",
      "11/11 [==============================] - 1s 131ms/step - loss: 4.9597 - val_loss: 96.1481\n",
      "Epoch 24/50\n",
      "11/11 [==============================] - 1s 130ms/step - loss: 4.7411 - val_loss: 30.1932\n",
      "Epoch 25/50\n",
      "11/11 [==============================] - 1s 131ms/step - loss: 4.4427 - val_loss: 39.0932\n",
      "Epoch 26/50\n",
      "11/11 [==============================] - 1s 132ms/step - loss: 5.1902 - val_loss: 36.8161\n",
      "Epoch 27/50\n",
      "11/11 [==============================] - 1s 130ms/step - loss: 4.7985 - val_loss: 6.9968\n",
      "Epoch 28/50\n",
      "11/11 [==============================] - 1s 131ms/step - loss: 4.2882 - val_loss: 19.2738\n",
      "Epoch 29/50\n",
      "11/11 [==============================] - 1s 131ms/step - loss: 4.0424 - val_loss: 20.8029\n",
      "Epoch 30/50\n",
      "11/11 [==============================] - 1s 133ms/step - loss: 4.1479 - val_loss: 35.7441\n",
      "Epoch 31/50\n",
      "11/11 [==============================] - 1s 137ms/step - loss: 3.7343 - val_loss: 22.5331\n",
      "Epoch 32/50\n",
      "11/11 [==============================] - 2s 141ms/step - loss: 4.5422 - val_loss: 26.4284\n",
      "Epoch 33/50\n",
      "11/11 [==============================] - 2s 144ms/step - loss: 3.7892 - val_loss: 9.7747\n",
      "Epoch 34/50\n",
      "11/11 [==============================] - 1s 132ms/step - loss: 4.0370 - val_loss: 13.5860\n",
      "Epoch 35/50\n",
      "11/11 [==============================] - 1s 130ms/step - loss: 4.1823 - val_loss: 23.6407\n",
      "Epoch 36/50\n",
      "11/11 [==============================] - 1s 132ms/step - loss: 4.0257 - val_loss: 16.1111\n",
      "Epoch 37/50\n",
      "11/11 [==============================] - 1s 133ms/step - loss: 3.9069 - val_loss: 19.5587\n",
      "Epoch 38/50\n",
      "11/11 [==============================] - 1s 133ms/step - loss: 3.2431 - val_loss: 3.2058\n",
      "Epoch 39/50\n",
      "11/11 [==============================] - 1s 132ms/step - loss: 3.1448 - val_loss: 4.7169\n",
      "Epoch 40/50\n",
      "11/11 [==============================] - 1s 134ms/step - loss: 3.0012 - val_loss: 9.0471\n",
      "Epoch 41/50\n",
      "11/11 [==============================] - 1s 132ms/step - loss: 4.0099 - val_loss: 26.4017\n",
      "Epoch 42/50\n",
      "11/11 [==============================] - 1s 133ms/step - loss: 4.3852 - val_loss: 56.6487\n",
      "Epoch 43/50\n",
      "11/11 [==============================] - 1s 132ms/step - loss: 3.4813 - val_loss: 20.0475\n",
      "Epoch 44/50\n",
      "11/11 [==============================] - 1s 132ms/step - loss: 3.3618 - val_loss: 7.9368\n",
      "Epoch 45/50\n",
      "11/11 [==============================] - 1s 133ms/step - loss: 3.1258 - val_loss: 11.2310\n",
      "Epoch 46/50\n",
      "11/11 [==============================] - 1s 132ms/step - loss: 3.9959 - val_loss: 4.9368\n",
      "Epoch 47/50\n",
      "11/11 [==============================] - 1s 132ms/step - loss: 4.0134 - val_loss: 12.5576\n",
      "Epoch 48/50\n",
      "11/11 [==============================] - 1s 133ms/step - loss: 3.2396 - val_loss: 11.4259\n",
      "Epoch 49/50\n",
      "11/11 [==============================] - 1s 133ms/step - loss: 3.8393 - val_loss: 4.8967\n",
      "Epoch 50/50\n",
      "11/11 [==============================] - 1s 131ms/step - loss: 3.2771 - val_loss: 27.0264\n"
     ]
    }
   ],
   "source": [
    "history = model.fit(call_X_train, call_y_train, \n",
    "                    batch_size=n_batch, epochs=n_epochs, \n",
    "                    validation_split = 0.01,\n",
    "                    callbacks=[TensorBoard()],\n",
    "                    verbose=1)"
   ]
  },
  {
   "cell_type": "code",
   "execution_count": 50,
   "metadata": {},
   "outputs": [],
   "source": [
    "model.save('mlp2-call30.h5')"
   ]
  },
  {
   "cell_type": "code",
   "execution_count": 51,
   "metadata": {},
   "outputs": [
    {
     "name": "stdout",
     "output_type": "stream",
     "text": [
      "15/15 [==============================] - 0s 1ms/step\n"
     ]
    }
   ],
   "source": [
    "call_y_pred30 = model.predict(call_X_test)"
   ]
  },
  {
   "cell_type": "code",
   "execution_count": 52,
   "metadata": {},
   "outputs": [
    {
     "name": "stdout",
     "output_type": "stream",
     "text": [
      "equilibrium mse 29.32860403585211\n",
      "spread mse 0.22965403636740409\n"
     ]
    }
   ],
   "source": [
    "print('equilibrium mse', np.mean(np.square(np.mean(call_y_test.values, axis=1) - np.mean(call_y_pred30, axis=1))))\n",
    "print('spread mse', np.mean(np.square(np.diff(call_y_test.values, axis=1) - np.diff(call_y_pred30, axis=1))))"
   ]
  },
  {
   "cell_type": "code",
   "execution_count": 53,
   "metadata": {},
   "outputs": [
    {
     "name": "stdout",
     "output_type": "stream",
     "text": [
      "Epoch 1/50\n",
      "11/11 [==============================] - 3s 146ms/step - loss: 3.1918 - val_loss: 16.9369\n",
      "Epoch 2/50\n",
      "11/11 [==============================] - 1s 133ms/step - loss: 2.7751 - val_loss: 18.7113\n",
      "Epoch 3/50\n",
      "11/11 [==============================] - 1s 137ms/step - loss: 2.7199 - val_loss: 4.0577\n",
      "Epoch 4/50\n",
      "11/11 [==============================] - 2s 143ms/step - loss: 2.9979 - val_loss: 17.1505\n",
      "Epoch 5/50\n",
      "11/11 [==============================] - 1s 136ms/step - loss: 2.8396 - val_loss: 5.1376\n",
      "Epoch 6/50\n",
      "11/11 [==============================] - 1s 132ms/step - loss: 2.6223 - val_loss: 4.5321\n",
      "Epoch 7/50\n",
      "11/11 [==============================] - 1s 134ms/step - loss: 2.5063 - val_loss: 6.6928\n",
      "Epoch 8/50\n",
      "11/11 [==============================] - 1s 134ms/step - loss: 2.4407 - val_loss: 1.9820\n",
      "Epoch 9/50\n",
      "11/11 [==============================] - 2s 141ms/step - loss: 2.5712 - val_loss: 2.1072\n",
      "Epoch 10/50\n",
      "11/11 [==============================] - 2s 140ms/step - loss: 2.4681 - val_loss: 7.0342\n",
      "Epoch 11/50\n",
      "11/11 [==============================] - 2s 147ms/step - loss: 2.3514 - val_loss: 4.3654\n",
      "Epoch 12/50\n",
      "11/11 [==============================] - 2s 149ms/step - loss: 2.5716 - val_loss: 3.2530\n",
      "Epoch 13/50\n",
      "11/11 [==============================] - 2s 141ms/step - loss: 2.4595 - val_loss: 2.6680\n",
      "Epoch 14/50\n",
      "11/11 [==============================] - 2s 146ms/step - loss: 2.3452 - val_loss: 2.3715\n",
      "Epoch 15/50\n",
      "11/11 [==============================] - 2s 152ms/step - loss: 2.4692 - val_loss: 3.8178\n",
      "Epoch 16/50\n",
      "11/11 [==============================] - 2s 150ms/step - loss: 2.3726 - val_loss: 2.2326\n",
      "Epoch 17/50\n",
      "11/11 [==============================] - 2s 140ms/step - loss: 2.3502 - val_loss: 11.0729\n",
      "Epoch 18/50\n",
      "11/11 [==============================] - 2s 147ms/step - loss: 2.2830 - val_loss: 7.0458\n",
      "Epoch 19/50\n",
      "11/11 [==============================] - 2s 155ms/step - loss: 2.3404 - val_loss: 11.5392\n",
      "Epoch 20/50\n",
      "11/11 [==============================] - 2s 148ms/step - loss: 2.4659 - val_loss: 2.7604\n",
      "Epoch 21/50\n",
      "11/11 [==============================] - 2s 161ms/step - loss: 2.6006 - val_loss: 3.2444\n",
      "Epoch 22/50\n",
      "11/11 [==============================] - 2s 144ms/step - loss: 2.2465 - val_loss: 3.0641\n",
      "Epoch 23/50\n",
      "11/11 [==============================] - 2s 147ms/step - loss: 2.2252 - val_loss: 3.9300\n",
      "Epoch 24/50\n",
      "11/11 [==============================] - 2s 141ms/step - loss: 2.3136 - val_loss: 5.6736\n",
      "Epoch 25/50\n",
      "11/11 [==============================] - 2s 146ms/step - loss: 2.1869 - val_loss: 3.9237\n",
      "Epoch 26/50\n",
      "11/11 [==============================] - 2s 143ms/step - loss: 2.2790 - val_loss: 2.5901\n",
      "Epoch 27/50\n",
      "11/11 [==============================] - 2s 145ms/step - loss: 2.2634 - val_loss: 14.3260\n",
      "Epoch 28/50\n",
      "11/11 [==============================] - 2s 145ms/step - loss: 2.4637 - val_loss: 9.3396\n",
      "Epoch 29/50\n",
      "11/11 [==============================] - 1s 134ms/step - loss: 2.5208 - val_loss: 5.1956\n",
      "Epoch 30/50\n",
      "11/11 [==============================] - 1s 136ms/step - loss: 2.2991 - val_loss: 6.6411\n",
      "Epoch 31/50\n",
      "11/11 [==============================] - 1s 135ms/step - loss: 2.0947 - val_loss: 4.2839\n",
      "Epoch 32/50\n",
      "11/11 [==============================] - 1s 135ms/step - loss: 2.2248 - val_loss: 6.5364\n",
      "Epoch 33/50\n",
      "11/11 [==============================] - 1s 136ms/step - loss: 2.5241 - val_loss: 3.7525\n",
      "Epoch 34/50\n",
      "11/11 [==============================] - 2s 164ms/step - loss: 2.4247 - val_loss: 12.3281\n",
      "Epoch 35/50\n",
      "11/11 [==============================] - 2s 170ms/step - loss: 2.3502 - val_loss: 23.4386\n",
      "Epoch 36/50\n",
      "11/11 [==============================] - 2s 174ms/step - loss: 2.2008 - val_loss: 21.3222\n",
      "Epoch 37/50\n",
      "11/11 [==============================] - 2s 175ms/step - loss: 2.4382 - val_loss: 4.5768\n",
      "Epoch 38/50\n",
      "11/11 [==============================] - 2s 162ms/step - loss: 2.4444 - val_loss: 4.1681\n",
      "Epoch 39/50\n",
      "11/11 [==============================] - 2s 170ms/step - loss: 2.5897 - val_loss: 2.0504\n",
      "Epoch 40/50\n",
      "11/11 [==============================] - 2s 176ms/step - loss: 2.7472 - val_loss: 7.0587\n",
      "Epoch 41/50\n",
      "11/11 [==============================] - 2s 181ms/step - loss: 2.6783 - val_loss: 6.6325\n",
      "Epoch 42/50\n",
      "11/11 [==============================] - 2s 178ms/step - loss: 2.3302 - val_loss: 6.8882\n",
      "Epoch 43/50\n",
      "11/11 [==============================] - 2s 165ms/step - loss: 2.1682 - val_loss: 6.4645\n",
      "Epoch 44/50\n",
      "11/11 [==============================] - 2s 173ms/step - loss: 2.4121 - val_loss: 2.7943\n",
      "Epoch 45/50\n",
      "11/11 [==============================] - 2s 170ms/step - loss: 2.0827 - val_loss: 6.6186\n",
      "Epoch 46/50\n",
      "11/11 [==============================] - 2s 172ms/step - loss: 2.3320 - val_loss: 9.3120\n",
      "Epoch 47/50\n",
      "11/11 [==============================] - 2s 163ms/step - loss: 2.1969 - val_loss: 3.3820\n",
      "Epoch 48/50\n",
      "11/11 [==============================] - 2s 195ms/step - loss: 1.9866 - val_loss: 2.1282\n",
      "Epoch 49/50\n",
      "11/11 [==============================] - 3s 233ms/step - loss: 2.2105 - val_loss: 7.0873\n",
      "Epoch 50/50\n",
      "11/11 [==============================] - 2s 184ms/step - loss: 2.2156 - val_loss: 2.9636\n"
     ]
    }
   ],
   "source": [
    "model.compile(loss='mse', optimizer=Adam(1e-4))\n",
    "history = model.fit(call_X_train, call_y_train, \n",
    "                    batch_size=n_batch, epochs=n_epochs, \n",
    "                    validation_split = 0.01,\n",
    "                    callbacks=[TensorBoard()],\n",
    "                    verbose=1)"
   ]
  },
  {
   "cell_type": "code",
   "execution_count": 54,
   "metadata": {},
   "outputs": [],
   "source": [
    "model.save('mlp2-call40.h5')"
   ]
  },
  {
   "cell_type": "code",
   "execution_count": 55,
   "metadata": {},
   "outputs": [
    {
     "name": "stdout",
     "output_type": "stream",
     "text": [
      "15/15 [==============================] - 0s 3ms/step\n",
      "equilibrium mse 3.0163733005580244\n",
      "spread mse 0.17447371990407556\n"
     ]
    }
   ],
   "source": [
    "call_y_pred40 = model.predict(call_X_test)\n",
    "print('equilibrium mse', np.mean(np.square(np.mean(call_y_test.values, axis=1) - np.mean(call_y_pred40, axis=1))))\n",
    "print('spread mse', np.mean(np.square(np.diff(call_y_test.values, axis=1) - np.diff(call_y_pred40, axis=1))))"
   ]
  },
  {
   "cell_type": "code",
   "execution_count": 56,
   "metadata": {},
   "outputs": [
    {
     "name": "stdout",
     "output_type": "stream",
     "text": [
      "Epoch 1/10\n",
      "11/11 [==============================] - 5s 223ms/step - loss: 2.2818 - val_loss: 7.0725\n",
      "Epoch 2/10\n",
      "11/11 [==============================] - 2s 220ms/step - loss: 2.1132 - val_loss: 6.9057\n",
      "Epoch 3/10\n",
      "11/11 [==============================] - 2s 184ms/step - loss: 1.9540 - val_loss: 6.3352\n",
      "Epoch 4/10\n",
      "11/11 [==============================] - 2s 197ms/step - loss: 1.9409 - val_loss: 4.2723\n",
      "Epoch 5/10\n",
      "11/11 [==============================] - 3s 283ms/step - loss: 1.8800 - val_loss: 4.5141\n",
      "Epoch 6/10\n",
      "11/11 [==============================] - 2s 171ms/step - loss: 1.9837 - val_loss: 4.8216\n",
      "Epoch 7/10\n",
      "11/11 [==============================] - 3s 238ms/step - loss: 2.1604 - val_loss: 3.5536\n",
      "Epoch 8/10\n",
      "11/11 [==============================] - 2s 169ms/step - loss: 2.0528 - val_loss: 5.2982\n",
      "Epoch 9/10\n",
      "11/11 [==============================] - 2s 145ms/step - loss: 2.0931 - val_loss: 5.3414\n",
      "Epoch 10/10\n",
      "11/11 [==============================] - 2s 208ms/step - loss: 1.9774 - val_loss: 4.0310\n"
     ]
    }
   ],
   "source": [
    "model.compile(loss='mse', optimizer=Adam(1e-5))\n",
    "history = model.fit(call_X_train, call_y_train, \n",
    "                    batch_size=n_batch, epochs=10, \n",
    "                    validation_split = 0.01,\n",
    "                    callbacks=[TensorBoard()],\n",
    "                    verbose=1)"
   ]
  },
  {
   "cell_type": "code",
   "execution_count": 57,
   "metadata": {},
   "outputs": [
    {
     "name": "stdout",
     "output_type": "stream",
     "text": [
      "15/15 [==============================] - 0s 1ms/step\n",
      "equilibrium mse 3.929644410975308\n",
      "spread mse 0.17185924066445898\n"
     ]
    }
   ],
   "source": [
    "model.save('mlp2-call50.h5')\n",
    "call_y_pred50 = model.predict(call_X_test)\n",
    "print('equilibrium mse', np.mean(np.square(np.mean(call_y_test.values, axis=1) - np.mean(call_y_pred50, axis=1))))\n",
    "print('spread mse', np.mean(np.square(np.diff(call_y_test.values, axis=1) - np.diff(call_y_pred50, axis=1))))"
   ]
  },
  {
   "cell_type": "code",
   "execution_count": 58,
   "metadata": {},
   "outputs": [
    {
     "name": "stdout",
     "output_type": "stream",
     "text": [
      "Epoch 1/10\n",
      "11/11 [==============================] - 3s 183ms/step - loss: 1.9437 - val_loss: 3.5873\n",
      "Epoch 2/10\n",
      "11/11 [==============================] - 1s 137ms/step - loss: 1.9402 - val_loss: 3.2885\n",
      "Epoch 3/10\n",
      "11/11 [==============================] - 2s 142ms/step - loss: 2.3196 - val_loss: 3.0457\n",
      "Epoch 4/10\n",
      "11/11 [==============================] - 1s 137ms/step - loss: 1.9715 - val_loss: 2.8358\n",
      "Epoch 5/10\n",
      "11/11 [==============================] - 1s 136ms/step - loss: 2.0326 - val_loss: 2.5726\n",
      "Epoch 6/10\n",
      "11/11 [==============================] - 1s 135ms/step - loss: 1.9392 - val_loss: 2.2569\n",
      "Epoch 7/10\n",
      "11/11 [==============================] - 2s 150ms/step - loss: 2.1521 - val_loss: 2.1403\n",
      "Epoch 8/10\n",
      "11/11 [==============================] - 2s 140ms/step - loss: 1.8301 - val_loss: 2.0437\n",
      "Epoch 9/10\n",
      "11/11 [==============================] - 2s 149ms/step - loss: 1.9234 - val_loss: 1.9797\n",
      "Epoch 10/10\n",
      "11/11 [==============================] - 2s 141ms/step - loss: 2.0134 - val_loss: 1.9081\n"
     ]
    }
   ],
   "source": [
    "model.compile(loss='mse', optimizer=Adam(1e-6))\n",
    "history = model.fit(call_X_train, call_y_train, \n",
    "                    batch_size=n_batch, epochs=10, \n",
    "                    validation_split = 0.01,\n",
    "                    callbacks=[TensorBoard()],\n",
    "                    verbose=1)"
   ]
  },
  {
   "cell_type": "code",
   "execution_count": 59,
   "metadata": {},
   "outputs": [
    {
     "name": "stdout",
     "output_type": "stream",
     "text": [
      "15/15 [==============================] - 0s 2ms/step\n",
      "equilibrium mse 2.035315241687155\n",
      "spread mse 0.1716649090513774\n"
     ]
    }
   ],
   "source": [
    "model.save('mlp2-call60.h5')\n",
    "call_y_pred60 = model.predict(call_X_test)\n",
    "print('equilibrium mse', np.mean(np.square(np.mean(call_y_test.values, axis=1) - np.mean(call_y_pred60, axis=1))))\n",
    "print('spread mse', np.mean(np.square(np.diff(call_y_test.values, axis=1) - np.diff(call_y_pred60, axis=1))))"
   ]
  },
  {
   "cell_type": "code",
   "execution_count": 64,
   "metadata": {},
   "outputs": [
    {
     "data": {
      "image/png": "[encoded data removed]",
      "text/plain": [
       "<Figure size 432x288 with 1 Axes>"
      ]
     },
     "metadata": {
      "needs_background": "light"
     },
     "output_type": "display_data"
    }
   ],
   "source": [
    "import matplotlib.pyplot as plt\n",
    "plt.plot(call_y_pred60, np.array(call_y_test),'o')\n",
    "plt.show()"
   ]
  }
 ],
 "metadata": {
  "interpreter": {
   "hash": "26de051ba29f2982a8de78e945f0abaf191376122a1563185a90213a26c5da77"
  },
  "kernelspec": {
   "display_name": "Python 3.10.0 64-bit",
   "language": "python",
   "name": "python3"
  },
  "language_info": {
   "codemirror_mode": {
    "name": "ipython",
    "version": 3
   },
   "file_extension": ".py",
   "mimetype": "text/x-python",
   "name": "python",
   "nbconvert_exporter": "python",
   "pygments_lexer": "ipython3",
   "version": "3.10.0"
  }
 },
 "nbformat": 4,
 "nbformat_minor": 2
}
