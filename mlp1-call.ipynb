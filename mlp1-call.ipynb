{
 "cells": [
  {
   "cell_type": "code",
   "execution_count": 3,
   "metadata": {},
   "outputs": [],
   "source": [
    "from keras.models import Sequential\n",
    "from keras.layers import Dense, Activation, LeakyReLU, BatchNormalization\n",
    "from keras.callbacks import TensorBoard\n",
    "from keras.optimizers import Adam\n",
    "import matplotlib.pyplot as plt\n",
    "import scipy.stats as si\n",
    "from sklearn.model_selection import train_test_split\n",
    "import pandas as pd\n",
    "import numpy as np\n",
    "import warnings\n",
    "import math\n",
    "warnings.filterwarnings(\"ignore\")"
   ]
  },
  {
   "cell_type": "code",
   "execution_count": 4,
   "metadata": {},
   "outputs": [],
   "source": [
    "# Hyperparams\n",
    "n_units = 400\n",
    "layers = 4\n",
    "n_batch = 4096\n",
    "n_epochs = 10"
   ]
  },
  {
   "cell_type": "code",
   "execution_count": 5,
   "metadata": {},
   "outputs": [],
   "source": [
    "call_df = pd.read_csv('../data.csv')\n"
   ]
  },
  {
   "cell_type": "code",
   "execution_count": 6,
   "metadata": {},
   "outputs": [
    {
     "data": {
      "text/html": [
       "<div>\n",
       "<style scoped>\n",
       "    .dataframe tbody tr th:only-of-type {\n",
       "        vertical-align: middle;\n",
       "    }\n",
       "\n",
       "    .dataframe tbody tr th {\n",
       "        vertical-align: top;\n",
       "    }\n",
       "\n",
       "    .dataframe thead th {\n",
       "        text-align: right;\n",
       "    }\n",
       "</style>\n",
       "<table border=\"1\" class=\"dataframe\">\n",
       "  <thead>\n",
       "    <tr style=\"text-align: right;\">\n",
       "      <th></th>\n",
       "      <th>strike_price</th>\n",
       "      <th>best_bid</th>\n",
       "      <th>best_offer</th>\n",
       "      <th>date_ndiff</th>\n",
       "      <th>treasury_rate</th>\n",
       "      <th>closing_price</th>\n",
       "      <th>sigma_20</th>\n",
       "    </tr>\n",
       "  </thead>\n",
       "  <tbody>\n",
       "    <tr>\n",
       "      <th>0</th>\n",
       "      <td>334.0</td>\n",
       "      <td>4.50</td>\n",
       "      <td>4.57</td>\n",
       "      <td>3</td>\n",
       "      <td>15.146374</td>\n",
       "      <td>333.84</td>\n",
       "      <td>0.3812</td>\n",
       "    </tr>\n",
       "    <tr>\n",
       "      <th>1</th>\n",
       "      <td>335.0</td>\n",
       "      <td>3.83</td>\n",
       "      <td>3.90</td>\n",
       "      <td>3</td>\n",
       "      <td>15.146374</td>\n",
       "      <td>333.84</td>\n",
       "      <td>0.3647</td>\n",
       "    </tr>\n",
       "    <tr>\n",
       "      <th>2</th>\n",
       "      <td>336.0</td>\n",
       "      <td>3.24</td>\n",
       "      <td>3.28</td>\n",
       "      <td>3</td>\n",
       "      <td>15.146374</td>\n",
       "      <td>333.84</td>\n",
       "      <td>0.3500</td>\n",
       "    </tr>\n",
       "    <tr>\n",
       "      <th>3</th>\n",
       "      <td>337.0</td>\n",
       "      <td>2.68</td>\n",
       "      <td>2.72</td>\n",
       "      <td>3</td>\n",
       "      <td>15.146374</td>\n",
       "      <td>333.84</td>\n",
       "      <td>0.3358</td>\n",
       "    </tr>\n",
       "    <tr>\n",
       "      <th>4</th>\n",
       "      <td>338.0</td>\n",
       "      <td>2.19</td>\n",
       "      <td>2.22</td>\n",
       "      <td>3</td>\n",
       "      <td>15.146374</td>\n",
       "      <td>333.84</td>\n",
       "      <td>0.3238</td>\n",
       "    </tr>\n",
       "  </tbody>\n",
       "</table>\n",
       "</div>"
      ],
      "text/plain": [
       "   strike_price  best_bid  best_offer  date_ndiff  treasury_rate  \\\n",
       "0         334.0      4.50        4.57           3      15.146374   \n",
       "1         335.0      3.83        3.90           3      15.146374   \n",
       "2         336.0      3.24        3.28           3      15.146374   \n",
       "3         337.0      2.68        2.72           3      15.146374   \n",
       "4         338.0      2.19        2.22           3      15.146374   \n",
       "\n",
       "   closing_price  sigma_20  \n",
       "0         333.84    0.3812  \n",
       "1         333.84    0.3647  \n",
       "2         333.84    0.3500  \n",
       "3         333.84    0.3358  \n",
       "4         333.84    0.3238  "
      ]
     },
     "execution_count": 6,
     "metadata": {},
     "output_type": "execute_result"
    }
   ],
   "source": [
    "call_df.head()"
   ]
  },
  {
   "cell_type": "code",
   "execution_count": 7,
   "metadata": {},
   "outputs": [],
   "source": [
    "call_X_train, call_X_test, call_y_train, call_y_test = train_test_split(call_df.drop(['best_bid', 'best_offer'], axis=1),\n",
    "                                                                        (call_df.best_bid + call_df.best_offer) / 2,\n",
    "                                                                        test_size=0.1, random_state=42)\n"
   ]
  },
  {
   "cell_type": "code",
   "execution_count": 8,
   "metadata": {},
   "outputs": [],
   "source": [
    "model = Sequential()\n",
    "model.add(Dense(n_units, input_dim=call_X_train.shape[1]))\n",
    "model.add(LeakyReLU())\n",
    "\n",
    "for _ in range(layers - 1):\n",
    "    model.add(Dense(n_units))\n",
    "    model.add(BatchNormalization())\n",
    "    model.add(LeakyReLU())\n",
    "\n",
    "model.add(Dense(1, activation='relu'))\n",
    "\n",
    "model.compile(loss='mse', optimizer=Adam())"
   ]
  },
  {
   "cell_type": "code",
   "execution_count": 9,
   "metadata": {},
   "outputs": [
    {
     "name": "stdout",
     "output_type": "stream",
     "text": [
      "Model: \"sequential\"\n",
      "_________________________________________________________________\n",
      " Layer (type)                Output Shape              Param #   \n",
      "=================================================================\n",
      " dense (Dense)               (None, 400)               2400      \n",
      "                                                                 \n",
      " leaky_re_lu (LeakyReLU)     (None, 400)               0         \n",
      "                                                                 \n",
      " dense_1 (Dense)             (None, 400)               160400    \n",
      "                                                                 \n",
      " batch_normalization (Batch  (None, 400)               1600      \n",
      " Normalization)                                                  \n",
      "                                                                 \n",
      " leaky_re_lu_1 (LeakyReLU)   (None, 400)               0         \n",
      "                                                                 \n",
      " dense_2 (Dense)             (None, 400)               160400    \n",
      "                                                                 \n",
      " batch_normalization_1 (Bat  (None, 400)               1600      \n",
      " chNormalization)                                                \n",
      "                                                                 \n",
      " leaky_re_lu_2 (LeakyReLU)   (None, 400)               0         \n",
      "                                                                 \n",
      " dense_3 (Dense)             (None, 400)               160400    \n",
      "                                                                 \n",
      " batch_normalization_2 (Bat  (None, 400)               1600      \n",
      " chNormalization)                                                \n",
      "                                                                 \n",
      " leaky_re_lu_3 (LeakyReLU)   (None, 400)               0         \n",
      "                                                                 \n",
      " dense_4 (Dense)             (None, 1)                 401       \n",
      "                                                                 \n",
      "=================================================================\n",
      "Total params: 488801 (1.86 MB)\n",
      "Trainable params: 486401 (1.86 MB)\n",
      "Non-trainable params: 2400 (9.38 KB)\n",
      "_________________________________________________________________\n"
     ]
    }
   ],
   "source": [
    "model.summary()"
   ]
  },
  {
   "cell_type": "code",
   "execution_count": 10,
   "metadata": {},
   "outputs": [
    {
     "name": "stdout",
     "output_type": "stream",
     "text": [
      "Epoch 1/10\n",
      "10/10 [==============================] - 2s 104ms/step - loss: 340.0359 - val_loss: 462.6501\n",
      "Epoch 2/10\n",
      "10/10 [==============================] - 1s 85ms/step - loss: 156.8550 - val_loss: 1484.1031\n",
      "Epoch 3/10\n",
      "10/10 [==============================] - 1s 86ms/step - loss: 104.5253 - val_loss: 2774.4419\n",
      "Epoch 4/10\n",
      "10/10 [==============================] - 1s 91ms/step - loss: 70.4202 - val_loss: 1237.2570\n",
      "Epoch 5/10\n",
      "10/10 [==============================] - 1s 87ms/step - loss: 46.6134 - val_loss: 724.7144\n",
      "Epoch 6/10\n",
      "10/10 [==============================] - 1s 91ms/step - loss: 31.7630 - val_loss: 332.1360\n",
      "Epoch 7/10\n",
      "10/10 [==============================] - 1s 91ms/step - loss: 22.0264 - val_loss: 109.9750\n",
      "Epoch 8/10\n",
      "10/10 [==============================] - 1s 89ms/step - loss: 17.5786 - val_loss: 118.0805\n",
      "Epoch 9/10\n",
      "10/10 [==============================] - 1s 92ms/step - loss: 14.0404 - val_loss: 83.5505\n",
      "Epoch 10/10\n",
      "10/10 [==============================] - 1s 93ms/step - loss: 12.4951 - val_loss: 118.9640\n"
     ]
    }
   ],
   "source": [
    "history = model.fit(call_X_train, call_y_train, \n",
    "                    batch_size=n_batch, epochs=n_epochs, \n",
    "                    validation_split = 0.01,\n",
    "                    callbacks=[TensorBoard()],\n",
    "                    verbose=1)"
   ]
  },
  {
   "cell_type": "code",
   "execution_count": 11,
   "metadata": {},
   "outputs": [],
   "source": [
    "model.save('mlp1-call10.h5')"
   ]
  },
  {
   "cell_type": "code",
   "execution_count": 12,
   "metadata": {},
   "outputs": [
    {
     "name": "stderr",
     "output_type": "stream",
     "text": [
      "WARNING:absl:`lr` is deprecated in Keras optimizer, please use `learning_rate` or use the legacy optimizer, e.g.,tf.keras.optimizers.legacy.Adam.\n"
     ]
    },
    {
     "name": "stdout",
     "output_type": "stream",
     "text": [
      "Epoch 1/10\n",
      "10/10 [==============================] - 2s 107ms/step - loss: 34.0127 - val_loss: 231.1247\n",
      "Epoch 2/10\n",
      "10/10 [==============================] - 1s 94ms/step - loss: 12.7933 - val_loss: 414.6224\n",
      "Epoch 3/10\n",
      "10/10 [==============================] - 1s 89ms/step - loss: 9.8285 - val_loss: 717.8323\n",
      "Epoch 4/10\n",
      "10/10 [==============================] - 1s 89ms/step - loss: 8.6671 - val_loss: 445.2102\n",
      "Epoch 5/10\n",
      "10/10 [==============================] - 1s 87ms/step - loss: 8.0078 - val_loss: 185.9191\n",
      "Epoch 6/10\n",
      "10/10 [==============================] - 1s 87ms/step - loss: 7.3641 - val_loss: 131.7411\n",
      "Epoch 7/10\n",
      "10/10 [==============================] - 1s 97ms/step - loss: 6.8731 - val_loss: 127.3797\n",
      "Epoch 8/10\n",
      "10/10 [==============================] - 1s 111ms/step - loss: 5.9878 - val_loss: 37.5333\n",
      "Epoch 9/10\n",
      "10/10 [==============================] - 1s 106ms/step - loss: 5.6768 - val_loss: 27.8693\n",
      "Epoch 10/10\n",
      "10/10 [==============================] - 1s 113ms/step - loss: 5.1201 - val_loss: 18.4455\n"
     ]
    }
   ],
   "source": [
    "model.compile(loss='mse', optimizer=Adam(lr=1e-4))\n",
    "history = model.fit(call_X_train, call_y_train, \n",
    "                    batch_size=4096, epochs=n_epochs, \n",
    "                    validation_split = 0.01,\n",
    "                    callbacks=[TensorBoard()],\n",
    "                    verbose=1)"
   ]
  },
  {
   "cell_type": "code",
   "execution_count": 13,
   "metadata": {},
   "outputs": [],
   "source": [
    "model.save('mlp1-call20.h5')"
   ]
  },
  {
   "cell_type": "code",
   "execution_count": 14,
   "metadata": {},
   "outputs": [
    {
     "name": "stderr",
     "output_type": "stream",
     "text": [
      "WARNING:absl:`lr` is deprecated in Keras optimizer, please use `learning_rate` or use the legacy optimizer, e.g.,tf.keras.optimizers.legacy.Adam.\n"
     ]
    },
    {
     "name": "stdout",
     "output_type": "stream",
     "text": [
      "Epoch 1/10\n",
      "10/10 [==============================] - 2s 101ms/step - loss: 24.5343 - val_loss: 157.0901\n",
      "Epoch 2/10\n",
      "10/10 [==============================] - 1s 89ms/step - loss: 8.8192 - val_loss: 182.3239\n",
      "Epoch 3/10\n",
      "10/10 [==============================] - 1s 88ms/step - loss: 6.6389 - val_loss: 53.8523\n",
      "Epoch 4/10\n",
      "10/10 [==============================] - 1s 94ms/step - loss: 5.6260 - val_loss: 51.1261\n",
      "Epoch 5/10\n",
      "10/10 [==============================] - 1s 89ms/step - loss: 5.2124 - val_loss: 32.6107\n",
      "Epoch 6/10\n",
      "10/10 [==============================] - 1s 101ms/step - loss: 4.8963 - val_loss: 25.9974\n",
      "Epoch 7/10\n",
      "10/10 [==============================] - 1s 101ms/step - loss: 4.6036 - val_loss: 14.9389\n",
      "Epoch 8/10\n",
      "10/10 [==============================] - 1s 106ms/step - loss: 5.0134 - val_loss: 7.4159\n",
      "Epoch 9/10\n",
      "10/10 [==============================] - 1s 112ms/step - loss: 4.5682 - val_loss: 9.2762\n",
      "Epoch 10/10\n",
      "10/10 [==============================] - 1s 98ms/step - loss: 4.3352 - val_loss: 12.9652\n"
     ]
    }
   ],
   "source": [
    "model.compile(loss='mse', optimizer=Adam(lr=1e-5))\n",
    "history = model.fit(call_X_train, call_y_train, \n",
    "                    batch_size=4096, epochs=10, \n",
    "                    validation_split = 0.01,\n",
    "                    callbacks=[TensorBoard()],\n",
    "                    verbose=1)"
   ]
  },
  {
   "cell_type": "code",
   "execution_count": 15,
   "metadata": {},
   "outputs": [],
   "source": [
    "model.save('mlp1-call30.h5')"
   ]
  },
  {
   "cell_type": "code",
   "execution_count": 16,
   "metadata": {},
   "outputs": [
    {
     "name": "stderr",
     "output_type": "stream",
     "text": [
      "WARNING:absl:`lr` is deprecated in Keras optimizer, please use `learning_rate` or use the legacy optimizer, e.g.,tf.keras.optimizers.legacy.Adam.\n"
     ]
    },
    {
     "name": "stdout",
     "output_type": "stream",
     "text": [
      "Epoch 1/10\n",
      "10/10 [==============================] - 2s 122ms/step - loss: 16.3695 - val_loss: 43.1605\n",
      "Epoch 2/10\n",
      "10/10 [==============================] - 1s 108ms/step - loss: 6.8016 - val_loss: 75.3305\n",
      "Epoch 3/10\n",
      "10/10 [==============================] - 1s 108ms/step - loss: 4.9925 - val_loss: 26.0777\n",
      "Epoch 4/10\n",
      "10/10 [==============================] - 1s 109ms/step - loss: 4.5102 - val_loss: 71.4170\n",
      "Epoch 5/10\n",
      "10/10 [==============================] - 1s 106ms/step - loss: 3.9575 - val_loss: 24.4420\n",
      "Epoch 6/10\n",
      "10/10 [==============================] - 1s 101ms/step - loss: 3.9143 - val_loss: 15.4086\n",
      "Epoch 7/10\n",
      "10/10 [==============================] - 1s 100ms/step - loss: 3.6979 - val_loss: 25.0005\n",
      "Epoch 8/10\n",
      "10/10 [==============================] - 1s 106ms/step - loss: 3.7223 - val_loss: 46.7341\n",
      "Epoch 9/10\n",
      "10/10 [==============================] - 1s 99ms/step - loss: 3.7172 - val_loss: 27.9811\n",
      "Epoch 10/10\n",
      "10/10 [==============================] - 1s 98ms/step - loss: 3.5710 - val_loss: 17.1332\n"
     ]
    }
   ],
   "source": [
    "model.compile(loss='mse', optimizer=Adam(lr=1e-6))\n",
    "history = model.fit(call_X_train, call_y_train, \n",
    "                    batch_size=4096, epochs=10, \n",
    "                    validation_split = 0.01,\n",
    "                    callbacks=[TensorBoard()],\n",
    "                    verbose=1)"
   ]
  },
  {
   "cell_type": "code",
   "execution_count": 17,
   "metadata": {},
   "outputs": [],
   "source": [
    "model.save('mlp1-call40.h5')"
   ]
  },
  {
   "cell_type": "code",
   "execution_count": 18,
   "metadata": {},
   "outputs": [
    {
     "name": "stdout",
     "output_type": "stream",
     "text": [
      "141/141 [==============================] - 0s 2ms/step\n"
     ]
    }
   ],
   "source": [
    "call_y_pred = model.predict(call_X_test)"
   ]
  },
  {
   "cell_type": "code",
   "execution_count": 19,
   "metadata": {},
   "outputs": [],
   "source": [
    "diff = (call_y_test.values - call_y_pred.reshape(call_y_pred.shape[0]))"
   ]
  },
  {
   "cell_type": "code",
   "execution_count": 20,
   "metadata": {},
   "outputs": [
    {
     "data": {
      "text/plain": [
       "4.4343519771195385"
      ]
     },
     "execution_count": 20,
     "metadata": {},
     "output_type": "execute_result"
    }
   ],
   "source": [
    "math.sqrt(np.mean(np.square(diff)))"
   ]
  },
  {
   "cell_type": "code",
   "execution_count": 21,
   "metadata": {},
   "outputs": [
    {
     "data": {
      "image/png": "[encoded data removed]",
      "text/plain": [
       "<Figure size 640x480 with 1 Axes>"
      ]
     },
     "metadata": {},
     "output_type": "display_data"
    }
   ],
   "source": [
    "plt.plot(call_y_pred, np.array(call_y_test),'o')\n",
    "plt.show()"
   ]
  },
  {
   "cell_type": "code",
   "execution_count": 22,
   "metadata": {},
   "outputs": [],
   "source": [
    "def monte_carlo(S, K, T, r, sigma, I, option = 'call'):\n",
    "    \n",
    "    data = np.zeros((I, 2))\n",
    "    z = np.random.normal(0, 1, [1, I])\n",
    "    ST = S*np.exp(T*(r - 0.5*sigma**2)+sigma*math.sqrt(T)*z)\n",
    "    data[:,1] = ST - K\n",
    "    average = np.sum(np.amax(data, axis=1))/float(I)\n",
    "    return np.exp(-r*T)*average"
   ]
  },
  {
   "cell_type": "code",
   "execution_count": 23,
   "metadata": {},
   "outputs": [],
   "source": [
    "output = []\n",
    "for i in range(call_X_test.shape[0]):\n",
    "    output.append(monte_carlo(call_X_test.iloc[i][3], call_X_test.iloc[i][0], call_X_test.iloc[i][1]/1260, call_X_test.iloc[i][2]/100, call_X_test.iloc[i][4], 100000))"
   ]
  },
  {
   "cell_type": "code",
   "execution_count": 24,
   "metadata": {},
   "outputs": [
    {
     "data": {
      "text/plain": [
       "3.8627725743609997"
      ]
     },
     "execution_count": 24,
     "metadata": {},
     "output_type": "execute_result"
    }
   ],
   "source": [
    "diff = call_y_test.values - output\n",
    "math.sqrt(np.mean(np.square(diff)))"
   ]
  },
  {
   "cell_type": "code",
   "execution_count": 25,
   "metadata": {},
   "outputs": [
    {
     "data": {
      "image/png": "[encoded data removed]",
      "text/plain": [
       "<Figure size 640x480 with 1 Axes>"
      ]
     },
     "metadata": {},
     "output_type": "display_data"
    }
   ],
   "source": [
    "plt.plot(output, np.array(call_y_test),'o')\n",
    "plt.show()"
   ]
  },
  {
   "cell_type": "code",
   "execution_count": 27,
   "metadata": {},
   "outputs": [
    {
     "data": {
      "text/plain": [
       "'X1, X2, Y1, Y2 = train_test_split(call_X_test,call_y_test,test_size=0.5, random_state=42)\\nX11,X12,Y11,Y12 = train_test_split(X1,Y1,test_size=0.5, random_state=42)\\nX21,X22,Y21,Y22 = train_test_split(X2,Y2,test_size=0.5, random_state=42)\\nk = 100\\np = 0\\nfor j in range(1220,1240):\\n    output = []\\n    for i in range(X11.shape[0]):\\n        output.append(monte_carlo(X11.iloc[i][3], X11.iloc[i][0], X11.iloc[i][1]/j, X11.iloc[i][2]/100, X11.iloc[i][4], 100000))\\n    diff = (Y11.values - output)\\n    d = math.sqrt(np.mean(np.square(diff)))\\n    if d < k:\\n        k = d\\n        p = j\\nprint(\"X11: \"+  str(p) +\" MSE: \"+ str(k))\\nk = 100\\np = 0\\nfor j in range(1290,1310):\\n    output = []\\n    for i in range(X12.shape[0]):\\n        output.append(monte_carlo(X12.iloc[i][3], X12.iloc[i][0], X12.iloc[i][1]/j, X12.iloc[i][2]/100, X12.iloc[i][4], 100000))\\n    diff = (Y12.values - output)\\n    d = math.sqrt(np.mean(np.square(diff)))\\n    if d < k:\\n        k = d\\n        p = j\\nprint(\"X12: \"+  str(p) +\" MSE: \"+ str(k))\\nk = 100\\np = 0\\nfor j in range(1250,1270):\\n    output = []\\n    for i in range(X21.shape[0]):\\n        output.append(monte_carlo(X21.iloc[i][3], X21.iloc[i][0], X21.iloc[i][1]/j, X21.iloc[i][2]/100, X21.iloc[i][4], 100000))\\n    diff = (Y21.values - output)\\n    d = math.sqrt(np.mean(np.square(diff)))\\n    if d < k:\\n        k = d\\n        p = j\\nprint(\"X21: \"+  str(p) +\" MSE: \"+ str(k))\\nk = 100\\np = 0\\nfor j in range(1230,1250):\\n    output = []\\n    for i in range(X22.shape[0]):\\n        output.append(monte_carlo(X22.iloc[i][3], X22.iloc[i][0], X22.iloc[i][1]/j, X22.iloc[i][2]/100, X22.iloc[i][4], 100000))\\n    diff = (Y22.values - output)\\n    d = math.sqrt(np.mean(np.square(diff)))\\n    if d < k:\\n        k = d\\n        p = j\\nprint(\"X22: \"+  str(p) +\" MSE: \"+ str(k))\\n'"
      ]
     },
     "execution_count": 27,
     "metadata": {},
     "output_type": "execute_result"
    }
   ],
   "source": [
    "\"\"\"X1, X2, Y1, Y2 = train_test_split(call_X_test,call_y_test,test_size=0.5, random_state=42)\n",
    "X11,X12,Y11,Y12 = train_test_split(X1,Y1,test_size=0.5, random_state=42)\n",
    "X21,X22,Y21,Y22 = train_test_split(X2,Y2,test_size=0.5, random_state=42)\n",
    "k = 100\n",
    "p = 0\n",
    "for j in range(1220,1240):\n",
    "    output = []\n",
    "    for i in range(X11.shape[0]):\n",
    "        output.append(monte_carlo(X11.iloc[i][3], X11.iloc[i][0], X11.iloc[i][1]/j, X11.iloc[i][2]/100, X11.iloc[i][4], 100000))\n",
    "    diff = (Y11.values - output)\n",
    "    d = math.sqrt(np.mean(np.square(diff)))\n",
    "    if d < k:\n",
    "        k = d\n",
    "        p = j\n",
    "print(\"X11: \"+  str(p) +\" MSE: \"+ str(k))\n",
    "k = 100\n",
    "p = 0\n",
    "for j in range(1290,1310):\n",
    "    output = []\n",
    "    for i in range(X12.shape[0]):\n",
    "        output.append(monte_carlo(X12.iloc[i][3], X12.iloc[i][0], X12.iloc[i][1]/j, X12.iloc[i][2]/100, X12.iloc[i][4], 100000))\n",
    "    diff = (Y12.values - output)\n",
    "    d = math.sqrt(np.mean(np.square(diff)))\n",
    "    if d < k:\n",
    "        k = d\n",
    "        p = j\n",
    "print(\"X12: \"+  str(p) +\" MSE: \"+ str(k))\n",
    "k = 100\n",
    "p = 0\n",
    "for j in range(1250,1270):\n",
    "    output = []\n",
    "    for i in range(X21.shape[0]):\n",
    "        output.append(monte_carlo(X21.iloc[i][3], X21.iloc[i][0], X21.iloc[i][1]/j, X21.iloc[i][2]/100, X21.iloc[i][4], 100000))\n",
    "    diff = (Y21.values - output)\n",
    "    d = math.sqrt(np.mean(np.square(diff)))\n",
    "    if d < k:\n",
    "        k = d\n",
    "        p = j\n",
    "print(\"X21: \"+  str(p) +\" MSE: \"+ str(k))\n",
    "k = 100\n",
    "p = 0\n",
    "for j in range(1230,1250):\n",
    "    output = []\n",
    "    for i in range(X22.shape[0]):\n",
    "        output.append(monte_carlo(X22.iloc[i][3], X22.iloc[i][0], X22.iloc[i][1]/j, X22.iloc[i][2]/100, X22.iloc[i][4], 100000))\n",
    "    diff = (Y22.values - output)\n",
    "    d = math.sqrt(np.mean(np.square(diff)))\n",
    "    if d < k:\n",
    "        k = d\n",
    "        p = j\n",
    "print(\"X22: \"+  str(p) +\" MSE: \"+ str(k))\n",
    "\"\"\""
   ]
  },
  {
   "cell_type": "code",
   "execution_count": 26,
   "metadata": {},
   "outputs": [],
   "source": [
    "def euro_vanilla(S, K, T, r, sigma):\n",
    "    \n",
    "    #S: spot price\n",
    "    #K: strike price\n",
    "    #T: time to maturity\n",
    "    #r: interest rate\n",
    "    #q: rate of continuous dividend paying asset \n",
    "    #sigma: volatility of underlying asset\n",
    "    \n",
    "    d1 = (np.log(S / K) + (r + 0.5 * sigma ** 2) * T) / (sigma * np.sqrt(T))\n",
    "    d2 = (np.log(S / K) + (r - 0.5 * sigma ** 2) * T) / (sigma * np.sqrt(T))\n",
    "    \n",
    "    result = (S * si.norm.cdf(d1, 0.0, 1.0) - K * np.exp(-r * T) * si.norm.cdf(d2, 0.0, 1.0))\n",
    "        \n",
    "    return result"
   ]
  },
  {
   "cell_type": "code",
   "execution_count": 27,
   "metadata": {},
   "outputs": [],
   "source": [
    "output = []\n",
    "for i in range(call_X_test.shape[0]):\n",
    "    output.append(euro_vanilla(call_X_test.iloc[i][3], call_X_test.iloc[i][0], call_X_test.iloc[i][1]/365, call_X_test.iloc[i][2]/100, call_X_test.iloc[i][4]))"
   ]
  },
  {
   "cell_type": "code",
   "execution_count": 28,
   "metadata": {},
   "outputs": [
    {
     "data": {
      "text/plain": [
       "22.41347489712282"
      ]
     },
     "execution_count": 28,
     "metadata": {},
     "output_type": "execute_result"
    }
   ],
   "source": [
    "diff = call_y_test.values - output\n",
    "math.sqrt(np.mean(np.square(diff)))"
   ]
  },
  {
   "cell_type": "code",
   "execution_count": 29,
   "metadata": {},
   "outputs": [
    {
     "data": {
      "image/png": "[encoded data removed]",
      "text/plain": [
       "<Figure size 640x480 with 1 Axes>"
      ]
     },
     "metadata": {},
     "output_type": "display_data"
    }
   ],
   "source": [
    "plt.plot(output, np.array(call_y_test),'o')\n",
    "plt.show()"
   ]
  }
 ],
 "metadata": {
  "interpreter": {
   "hash": "26de051ba29f2982a8de78e945f0abaf191376122a1563185a90213a26c5da77"
  },
  "kernelspec": {
   "display_name": "Python 3.10.0 64-bit",
   "language": "python",
   "name": "python3"
  },
  "language_info": {
   "codemirror_mode": {
    "name": "ipython",
    "version": 3
   },
   "file_extension": ".py",
   "mimetype": "text/x-python",
   "name": "python",
   "nbconvert_exporter": "python",
   "pygments_lexer": "ipython3",
   "version": "3.11.4"
  }
 },
 "nbformat": 4,
 "nbformat_minor": 2
}
